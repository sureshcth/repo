{
 "cells": [
  {
   "cell_type": "code",
   "execution_count": 1,
   "metadata": {
    "collapsed": false
   },
   "outputs": [
    {
     "name": "stdout",
     "output_type": "stream",
     "text": [
      "G\n",
      "o\n",
      "o\n",
      "g\n",
      "l\n",
      "e\n"
     ]
    }
   ],
   "source": [
    "for c in \"Google\":\n",
    "    print c"
   ]
  },
  {
   "cell_type": "code",
   "execution_count": 2,
   "metadata": {
    "collapsed": false
   },
   "outputs": [
    {
     "name": "stdout",
     "output_type": "stream",
     "text": [
      "2\n"
     ]
    }
   ],
   "source": [
    "count = 0\n",
    "for c in \"Arun\":\n",
    "    if c == \"A\" or c == \"a\" or c==\"e\" or c==\"E\" or c==\"i\" or c ==\"I\" or c == \"o\" or c == \"O\" or c == \"u\" or c==\"U\":\n",
    "        count = count +1\n",
    "print count"
   ]
  },
  {
   "cell_type": "code",
   "execution_count": 3,
   "metadata": {
    "collapsed": false
   },
   "outputs": [
    {
     "name": "stdout",
     "output_type": "stream",
     "text": [
      "Enter your Name: Suresh\n",
      "6\n"
     ]
    }
   ],
   "source": [
    "name = raw_input(\"Enter your Name: \")\n",
    "count = 0\n",
    "for c in name:\n",
    "    count = count+1\n",
    "print count"
   ]
  }
 ],
 "metadata": {
  "kernelspec": {
   "display_name": "Python 2",
   "language": "python",
   "name": "python2"
  },
  "language_info": {
   "codemirror_mode": {
    "name": "ipython",
    "version": 2
   },
   "file_extension": ".py",
   "mimetype": "text/x-python",
   "name": "python",
   "nbconvert_exporter": "python",
   "pygments_lexer": "ipython2",
   "version": "2.7.12"
  }
 },
 "nbformat": 4,
 "nbformat_minor": 1
}
