{
 "cells": [
  {
   "cell_type": "code",
   "execution_count": 1,
   "metadata": {
    "collapsed": true
   },
   "outputs": [],
   "source": [
    "import pandas as pd\n",
    "import numpy as np\n",
    "import matplotlib.pyplot as plt"
   ]
  },
  {
   "cell_type": "code",
   "execution_count": 3,
   "metadata": {
    "collapsed": false
   },
   "outputs": [
    {
     "data": {
      "text/plain": [
       "0     1\n",
       "1     3\n",
       "2     5\n",
       "3   NaN\n",
       "4     6\n",
       "5     8\n",
       "dtype: float64"
      ]
     },
     "execution_count": 3,
     "metadata": {},
     "output_type": "execute_result"
    }
   ],
   "source": [
    "s = pd.Series([1,3,5,np.nan,6,8])\n",
    "s"
   ]
  },
  {
   "cell_type": "code",
   "execution_count": 4,
   "metadata": {
    "collapsed": false
   },
   "outputs": [
    {
     "data": {
      "text/plain": [
       "DatetimeIndex(['2013-01-01', '2013-01-02', '2013-01-03', '2013-01-04',\n",
       "               '2013-01-05', '2013-01-06'],\n",
       "              dtype='datetime64[ns]', freq='D')"
      ]
     },
     "execution_count": 4,
     "metadata": {},
     "output_type": "execute_result"
    }
   ],
   "source": [
    "dates = pd.date_range('20130101', periods=6)\n",
    "dates"
   ]
  },
  {
   "cell_type": "code",
   "execution_count": 8,
   "metadata": {
    "collapsed": false
   },
   "outputs": [
    {
     "data": {
      "text/html": [
       "<div>\n",
       "<table border=\"1\" class=\"dataframe\">\n",
       "  <thead>\n",
       "    <tr style=\"text-align: right;\">\n",
       "      <th></th>\n",
       "      <th>A</th>\n",
       "      <th>B</th>\n",
       "      <th>C</th>\n",
       "      <th>D</th>\n",
       "    </tr>\n",
       "  </thead>\n",
       "  <tbody>\n",
       "    <tr>\n",
       "      <th>2013-01-01</th>\n",
       "      <td>0.442957</td>\n",
       "      <td>0.604927</td>\n",
       "      <td>0.901951</td>\n",
       "      <td>-0.273627</td>\n",
       "    </tr>\n",
       "    <tr>\n",
       "      <th>2013-01-02</th>\n",
       "      <td>0.305265</td>\n",
       "      <td>-0.895433</td>\n",
       "      <td>0.660628</td>\n",
       "      <td>0.783521</td>\n",
       "    </tr>\n",
       "    <tr>\n",
       "      <th>2013-01-03</th>\n",
       "      <td>-0.032147</td>\n",
       "      <td>0.938191</td>\n",
       "      <td>-0.502093</td>\n",
       "      <td>0.538006</td>\n",
       "    </tr>\n",
       "    <tr>\n",
       "      <th>2013-01-04</th>\n",
       "      <td>1.306524</td>\n",
       "      <td>0.245084</td>\n",
       "      <td>-1.791461</td>\n",
       "      <td>-1.422769</td>\n",
       "    </tr>\n",
       "    <tr>\n",
       "      <th>2013-01-05</th>\n",
       "      <td>1.270382</td>\n",
       "      <td>1.741084</td>\n",
       "      <td>0.190837</td>\n",
       "      <td>-0.031437</td>\n",
       "    </tr>\n",
       "    <tr>\n",
       "      <th>2013-01-06</th>\n",
       "      <td>1.381168</td>\n",
       "      <td>0.950653</td>\n",
       "      <td>-1.309913</td>\n",
       "      <td>0.641937</td>\n",
       "    </tr>\n",
       "  </tbody>\n",
       "</table>\n",
       "</div>"
      ],
      "text/plain": [
       "                   A         B         C         D\n",
       "2013-01-01  0.442957  0.604927  0.901951 -0.273627\n",
       "2013-01-02  0.305265 -0.895433  0.660628  0.783521\n",
       "2013-01-03 -0.032147  0.938191 -0.502093  0.538006\n",
       "2013-01-04  1.306524  0.245084 -1.791461 -1.422769\n",
       "2013-01-05  1.270382  1.741084  0.190837 -0.031437\n",
       "2013-01-06  1.381168  0.950653 -1.309913  0.641937"
      ]
     },
     "execution_count": 8,
     "metadata": {},
     "output_type": "execute_result"
    }
   ],
   "source": [
    "df = pd.DataFrame(np.random.randn(6,4), index=dates, columns = list('ABCD'))\n",
    "df"
   ]
  },
  {
   "cell_type": "code",
   "execution_count": 10,
   "metadata": {
    "collapsed": false
   },
   "outputs": [
    {
     "data": {
      "text/html": [
       "<div>\n",
       "<table border=\"1\" class=\"dataframe\">\n",
       "  <thead>\n",
       "    <tr style=\"text-align: right;\">\n",
       "      <th></th>\n",
       "      <th>A</th>\n",
       "      <th>B</th>\n",
       "      <th>C</th>\n",
       "      <th>D</th>\n",
       "    </tr>\n",
       "  </thead>\n",
       "  <tbody>\n",
       "    <tr>\n",
       "      <th>2013-01-01</th>\n",
       "      <td>0.442957</td>\n",
       "      <td>0.604927</td>\n",
       "      <td>0.901951</td>\n",
       "      <td>-0.273627</td>\n",
       "    </tr>\n",
       "    <tr>\n",
       "      <th>2013-01-02</th>\n",
       "      <td>0.305265</td>\n",
       "      <td>-0.895433</td>\n",
       "      <td>0.660628</td>\n",
       "      <td>0.783521</td>\n",
       "    </tr>\n",
       "  </tbody>\n",
       "</table>\n",
       "</div>"
      ],
      "text/plain": [
       "                   A         B         C         D\n",
       "2013-01-01  0.442957  0.604927  0.901951 -0.273627\n",
       "2013-01-02  0.305265 -0.895433  0.660628  0.783521"
      ]
     },
     "execution_count": 10,
     "metadata": {},
     "output_type": "execute_result"
    }
   ],
   "source": [
    "df.head(2)"
   ]
  },
  {
   "cell_type": "code",
   "execution_count": 11,
   "metadata": {
    "collapsed": false
   },
   "outputs": [
    {
     "data": {
      "text/html": [
       "<div>\n",
       "<table border=\"1\" class=\"dataframe\">\n",
       "  <thead>\n",
       "    <tr style=\"text-align: right;\">\n",
       "      <th></th>\n",
       "      <th>A</th>\n",
       "      <th>B</th>\n",
       "      <th>C</th>\n",
       "      <th>D</th>\n",
       "    </tr>\n",
       "  </thead>\n",
       "  <tbody>\n",
       "    <tr>\n",
       "      <th>2013-01-05</th>\n",
       "      <td>1.270382</td>\n",
       "      <td>1.741084</td>\n",
       "      <td>0.190837</td>\n",
       "      <td>-0.031437</td>\n",
       "    </tr>\n",
       "    <tr>\n",
       "      <th>2013-01-06</th>\n",
       "      <td>1.381168</td>\n",
       "      <td>0.950653</td>\n",
       "      <td>-1.309913</td>\n",
       "      <td>0.641937</td>\n",
       "    </tr>\n",
       "  </tbody>\n",
       "</table>\n",
       "</div>"
      ],
      "text/plain": [
       "                   A         B         C         D\n",
       "2013-01-05  1.270382  1.741084  0.190837 -0.031437\n",
       "2013-01-06  1.381168  0.950653 -1.309913  0.641937"
      ]
     },
     "execution_count": 11,
     "metadata": {},
     "output_type": "execute_result"
    }
   ],
   "source": [
    "df.tail(2)"
   ]
  },
  {
   "cell_type": "code",
   "execution_count": 12,
   "metadata": {
    "collapsed": false
   },
   "outputs": [
    {
     "data": {
      "text/plain": [
       "DatetimeIndex(['2013-01-01', '2013-01-02', '2013-01-03', '2013-01-04',\n",
       "               '2013-01-05', '2013-01-06'],\n",
       "              dtype='datetime64[ns]', freq='D')"
      ]
     },
     "execution_count": 12,
     "metadata": {},
     "output_type": "execute_result"
    }
   ],
   "source": [
    "df.index"
   ]
  },
  {
   "cell_type": "code",
   "execution_count": 13,
   "metadata": {
    "collapsed": false
   },
   "outputs": [
    {
     "data": {
      "text/plain": [
       "array([[ 0.44295669,  0.60492719,  0.9019508 , -0.27362713],\n",
       "       [ 0.30526462, -0.89543345,  0.66062816,  0.78352051],\n",
       "       [-0.03214747,  0.93819091, -0.5020932 ,  0.5380056 ],\n",
       "       [ 1.30652364,  0.24508383, -1.79146084, -1.42276863],\n",
       "       [ 1.27038216,  1.74108431,  0.19083745, -0.03143699],\n",
       "       [ 1.38116779,  0.95065264, -1.30991282,  0.64193683]])"
      ]
     },
     "execution_count": 13,
     "metadata": {},
     "output_type": "execute_result"
    }
   ],
   "source": [
    "df.values"
   ]
  },
  {
   "cell_type": "code",
   "execution_count": 14,
   "metadata": {
    "collapsed": false
   },
   "outputs": [
    {
     "data": {
      "text/plain": [
       "Index([u'A', u'B', u'C', u'D'], dtype='object')"
      ]
     },
     "execution_count": 14,
     "metadata": {},
     "output_type": "execute_result"
    }
   ],
   "source": [
    "df.columns"
   ]
  },
  {
   "cell_type": "code",
   "execution_count": 15,
   "metadata": {
    "collapsed": false
   },
   "outputs": [
    {
     "data": {
      "text/html": [
       "<div>\n",
       "<table border=\"1\" class=\"dataframe\">\n",
       "  <thead>\n",
       "    <tr style=\"text-align: right;\">\n",
       "      <th></th>\n",
       "      <th>A</th>\n",
       "      <th>B</th>\n",
       "      <th>C</th>\n",
       "      <th>D</th>\n",
       "    </tr>\n",
       "  </thead>\n",
       "  <tbody>\n",
       "    <tr>\n",
       "      <th>count</th>\n",
       "      <td>6.000000</td>\n",
       "      <td>6.000000</td>\n",
       "      <td>6.000000</td>\n",
       "      <td>6.000000</td>\n",
       "    </tr>\n",
       "    <tr>\n",
       "      <th>mean</th>\n",
       "      <td>0.779025</td>\n",
       "      <td>0.597418</td>\n",
       "      <td>-0.308342</td>\n",
       "      <td>0.039272</td>\n",
       "    </tr>\n",
       "    <tr>\n",
       "      <th>std</th>\n",
       "      <td>0.612806</td>\n",
       "      <td>0.883366</td>\n",
       "      <td>1.085653</td>\n",
       "      <td>0.825386</td>\n",
       "    </tr>\n",
       "    <tr>\n",
       "      <th>min</th>\n",
       "      <td>-0.032147</td>\n",
       "      <td>-0.895433</td>\n",
       "      <td>-1.791461</td>\n",
       "      <td>-1.422769</td>\n",
       "    </tr>\n",
       "    <tr>\n",
       "      <th>25%</th>\n",
       "      <td>0.339688</td>\n",
       "      <td>0.335045</td>\n",
       "      <td>-1.107958</td>\n",
       "      <td>-0.213080</td>\n",
       "    </tr>\n",
       "    <tr>\n",
       "      <th>50%</th>\n",
       "      <td>0.856669</td>\n",
       "      <td>0.771559</td>\n",
       "      <td>-0.155628</td>\n",
       "      <td>0.253284</td>\n",
       "    </tr>\n",
       "    <tr>\n",
       "      <th>75%</th>\n",
       "      <td>1.297488</td>\n",
       "      <td>0.947537</td>\n",
       "      <td>0.543180</td>\n",
       "      <td>0.615954</td>\n",
       "    </tr>\n",
       "    <tr>\n",
       "      <th>max</th>\n",
       "      <td>1.381168</td>\n",
       "      <td>1.741084</td>\n",
       "      <td>0.901951</td>\n",
       "      <td>0.783521</td>\n",
       "    </tr>\n",
       "  </tbody>\n",
       "</table>\n",
       "</div>"
      ],
      "text/plain": [
       "              A         B         C         D\n",
       "count  6.000000  6.000000  6.000000  6.000000\n",
       "mean   0.779025  0.597418 -0.308342  0.039272\n",
       "std    0.612806  0.883366  1.085653  0.825386\n",
       "min   -0.032147 -0.895433 -1.791461 -1.422769\n",
       "25%    0.339688  0.335045 -1.107958 -0.213080\n",
       "50%    0.856669  0.771559 -0.155628  0.253284\n",
       "75%    1.297488  0.947537  0.543180  0.615954\n",
       "max    1.381168  1.741084  0.901951  0.783521"
      ]
     },
     "execution_count": 15,
     "metadata": {},
     "output_type": "execute_result"
    }
   ],
   "source": [
    "df.describe()"
   ]
  },
  {
   "cell_type": "code",
   "execution_count": 16,
   "metadata": {
    "collapsed": false
   },
   "outputs": [
    {
     "data": {
      "text/html": [
       "<div>\n",
       "<table border=\"1\" class=\"dataframe\">\n",
       "  <thead>\n",
       "    <tr style=\"text-align: right;\">\n",
       "      <th></th>\n",
       "      <th>2013-01-01 00:00:00</th>\n",
       "      <th>2013-01-02 00:00:00</th>\n",
       "      <th>2013-01-03 00:00:00</th>\n",
       "      <th>2013-01-04 00:00:00</th>\n",
       "      <th>2013-01-05 00:00:00</th>\n",
       "      <th>2013-01-06 00:00:00</th>\n",
       "    </tr>\n",
       "  </thead>\n",
       "  <tbody>\n",
       "    <tr>\n",
       "      <th>A</th>\n",
       "      <td>0.442957</td>\n",
       "      <td>0.305265</td>\n",
       "      <td>-0.032147</td>\n",
       "      <td>1.306524</td>\n",
       "      <td>1.270382</td>\n",
       "      <td>1.381168</td>\n",
       "    </tr>\n",
       "    <tr>\n",
       "      <th>B</th>\n",
       "      <td>0.604927</td>\n",
       "      <td>-0.895433</td>\n",
       "      <td>0.938191</td>\n",
       "      <td>0.245084</td>\n",
       "      <td>1.741084</td>\n",
       "      <td>0.950653</td>\n",
       "    </tr>\n",
       "    <tr>\n",
       "      <th>C</th>\n",
       "      <td>0.901951</td>\n",
       "      <td>0.660628</td>\n",
       "      <td>-0.502093</td>\n",
       "      <td>-1.791461</td>\n",
       "      <td>0.190837</td>\n",
       "      <td>-1.309913</td>\n",
       "    </tr>\n",
       "    <tr>\n",
       "      <th>D</th>\n",
       "      <td>-0.273627</td>\n",
       "      <td>0.783521</td>\n",
       "      <td>0.538006</td>\n",
       "      <td>-1.422769</td>\n",
       "      <td>-0.031437</td>\n",
       "      <td>0.641937</td>\n",
       "    </tr>\n",
       "  </tbody>\n",
       "</table>\n",
       "</div>"
      ],
      "text/plain": [
       "   2013-01-01  2013-01-02  2013-01-03  2013-01-04  2013-01-05  2013-01-06\n",
       "A    0.442957    0.305265   -0.032147    1.306524    1.270382    1.381168\n",
       "B    0.604927   -0.895433    0.938191    0.245084    1.741084    0.950653\n",
       "C    0.901951    0.660628   -0.502093   -1.791461    0.190837   -1.309913\n",
       "D   -0.273627    0.783521    0.538006   -1.422769   -0.031437    0.641937"
      ]
     },
     "execution_count": 16,
     "metadata": {},
     "output_type": "execute_result"
    }
   ],
   "source": [
    "df.T"
   ]
  },
  {
   "cell_type": "code",
   "execution_count": 18,
   "metadata": {
    "collapsed": false
   },
   "outputs": [
    {
     "data": {
      "text/html": [
       "<div>\n",
       "<table border=\"1\" class=\"dataframe\">\n",
       "  <thead>\n",
       "    <tr style=\"text-align: right;\">\n",
       "      <th></th>\n",
       "      <th>A</th>\n",
       "      <th>B</th>\n",
       "      <th>C</th>\n",
       "      <th>D</th>\n",
       "    </tr>\n",
       "  </thead>\n",
       "  <tbody>\n",
       "    <tr>\n",
       "      <th>2013-01-01</th>\n",
       "      <td>0.442957</td>\n",
       "      <td>0.604927</td>\n",
       "      <td>0.901951</td>\n",
       "      <td>-0.273627</td>\n",
       "    </tr>\n",
       "    <tr>\n",
       "      <th>2013-01-02</th>\n",
       "      <td>0.305265</td>\n",
       "      <td>-0.895433</td>\n",
       "      <td>0.660628</td>\n",
       "      <td>0.783521</td>\n",
       "    </tr>\n",
       "    <tr>\n",
       "      <th>2013-01-03</th>\n",
       "      <td>-0.032147</td>\n",
       "      <td>0.938191</td>\n",
       "      <td>-0.502093</td>\n",
       "      <td>0.538006</td>\n",
       "    </tr>\n",
       "    <tr>\n",
       "      <th>2013-01-04</th>\n",
       "      <td>1.306524</td>\n",
       "      <td>0.245084</td>\n",
       "      <td>-1.791461</td>\n",
       "      <td>-1.422769</td>\n",
       "    </tr>\n",
       "    <tr>\n",
       "      <th>2013-01-05</th>\n",
       "      <td>1.270382</td>\n",
       "      <td>1.741084</td>\n",
       "      <td>0.190837</td>\n",
       "      <td>-0.031437</td>\n",
       "    </tr>\n",
       "    <tr>\n",
       "      <th>2013-01-06</th>\n",
       "      <td>1.381168</td>\n",
       "      <td>0.950653</td>\n",
       "      <td>-1.309913</td>\n",
       "      <td>0.641937</td>\n",
       "    </tr>\n",
       "  </tbody>\n",
       "</table>\n",
       "</div>"
      ],
      "text/plain": [
       "                   A         B         C         D\n",
       "2013-01-01  0.442957  0.604927  0.901951 -0.273627\n",
       "2013-01-02  0.305265 -0.895433  0.660628  0.783521\n",
       "2013-01-03 -0.032147  0.938191 -0.502093  0.538006\n",
       "2013-01-04  1.306524  0.245084 -1.791461 -1.422769\n",
       "2013-01-05  1.270382  1.741084  0.190837 -0.031437\n",
       "2013-01-06  1.381168  0.950653 -1.309913  0.641937"
      ]
     },
     "execution_count": 18,
     "metadata": {},
     "output_type": "execute_result"
    }
   ],
   "source": [
    "df.sort_index(axis=1, ascending = True)"
   ]
  },
  {
   "cell_type": "code",
   "execution_count": 19,
   "metadata": {
    "collapsed": false
   },
   "outputs": [
    {
     "data": {
      "text/html": [
       "<div>\n",
       "<table border=\"1\" class=\"dataframe\">\n",
       "  <thead>\n",
       "    <tr style=\"text-align: right;\">\n",
       "      <th></th>\n",
       "      <th>A</th>\n",
       "      <th>B</th>\n",
       "      <th>C</th>\n",
       "      <th>D</th>\n",
       "    </tr>\n",
       "  </thead>\n",
       "  <tbody>\n",
       "    <tr>\n",
       "      <th>2013-01-04</th>\n",
       "      <td>1.306524</td>\n",
       "      <td>0.245084</td>\n",
       "      <td>-1.791461</td>\n",
       "      <td>-1.422769</td>\n",
       "    </tr>\n",
       "    <tr>\n",
       "      <th>2013-01-06</th>\n",
       "      <td>1.381168</td>\n",
       "      <td>0.950653</td>\n",
       "      <td>-1.309913</td>\n",
       "      <td>0.641937</td>\n",
       "    </tr>\n",
       "    <tr>\n",
       "      <th>2013-01-03</th>\n",
       "      <td>-0.032147</td>\n",
       "      <td>0.938191</td>\n",
       "      <td>-0.502093</td>\n",
       "      <td>0.538006</td>\n",
       "    </tr>\n",
       "    <tr>\n",
       "      <th>2013-01-05</th>\n",
       "      <td>1.270382</td>\n",
       "      <td>1.741084</td>\n",
       "      <td>0.190837</td>\n",
       "      <td>-0.031437</td>\n",
       "    </tr>\n",
       "    <tr>\n",
       "      <th>2013-01-02</th>\n",
       "      <td>0.305265</td>\n",
       "      <td>-0.895433</td>\n",
       "      <td>0.660628</td>\n",
       "      <td>0.783521</td>\n",
       "    </tr>\n",
       "    <tr>\n",
       "      <th>2013-01-01</th>\n",
       "      <td>0.442957</td>\n",
       "      <td>0.604927</td>\n",
       "      <td>0.901951</td>\n",
       "      <td>-0.273627</td>\n",
       "    </tr>\n",
       "  </tbody>\n",
       "</table>\n",
       "</div>"
      ],
      "text/plain": [
       "                   A         B         C         D\n",
       "2013-01-04  1.306524  0.245084 -1.791461 -1.422769\n",
       "2013-01-06  1.381168  0.950653 -1.309913  0.641937\n",
       "2013-01-03 -0.032147  0.938191 -0.502093  0.538006\n",
       "2013-01-05  1.270382  1.741084  0.190837 -0.031437\n",
       "2013-01-02  0.305265 -0.895433  0.660628  0.783521\n",
       "2013-01-01  0.442957  0.604927  0.901951 -0.273627"
      ]
     },
     "execution_count": 19,
     "metadata": {},
     "output_type": "execute_result"
    }
   ],
   "source": [
    "df.sort_values(by='C')"
   ]
  },
  {
   "cell_type": "code",
   "execution_count": 20,
   "metadata": {
    "collapsed": false
   },
   "outputs": [
    {
     "data": {
      "text/plain": [
       "2013-01-01    0.442957\n",
       "2013-01-02    0.305265\n",
       "2013-01-03   -0.032147\n",
       "2013-01-04    1.306524\n",
       "2013-01-05    1.270382\n",
       "2013-01-06    1.381168\n",
       "Freq: D, Name: A, dtype: float64"
      ]
     },
     "execution_count": 20,
     "metadata": {},
     "output_type": "execute_result"
    }
   ],
   "source": [
    "df['A']"
   ]
  },
  {
   "cell_type": "code",
   "execution_count": 21,
   "metadata": {
    "collapsed": false
   },
   "outputs": [
    {
     "data": {
      "text/html": [
       "<div>\n",
       "<table border=\"1\" class=\"dataframe\">\n",
       "  <thead>\n",
       "    <tr style=\"text-align: right;\">\n",
       "      <th></th>\n",
       "      <th>A</th>\n",
       "      <th>B</th>\n",
       "      <th>C</th>\n",
       "      <th>D</th>\n",
       "    </tr>\n",
       "  </thead>\n",
       "  <tbody>\n",
       "    <tr>\n",
       "      <th>2013-01-01</th>\n",
       "      <td>0.442957</td>\n",
       "      <td>0.604927</td>\n",
       "      <td>0.901951</td>\n",
       "      <td>-0.273627</td>\n",
       "    </tr>\n",
       "    <tr>\n",
       "      <th>2013-01-02</th>\n",
       "      <td>0.305265</td>\n",
       "      <td>-0.895433</td>\n",
       "      <td>0.660628</td>\n",
       "      <td>0.783521</td>\n",
       "    </tr>\n",
       "    <tr>\n",
       "      <th>2013-01-03</th>\n",
       "      <td>-0.032147</td>\n",
       "      <td>0.938191</td>\n",
       "      <td>-0.502093</td>\n",
       "      <td>0.538006</td>\n",
       "    </tr>\n",
       "  </tbody>\n",
       "</table>\n",
       "</div>"
      ],
      "text/plain": [
       "                   A         B         C         D\n",
       "2013-01-01  0.442957  0.604927  0.901951 -0.273627\n",
       "2013-01-02  0.305265 -0.895433  0.660628  0.783521\n",
       "2013-01-03 -0.032147  0.938191 -0.502093  0.538006"
      ]
     },
     "execution_count": 21,
     "metadata": {},
     "output_type": "execute_result"
    }
   ],
   "source": [
    "df[0:3]"
   ]
  },
  {
   "cell_type": "code",
   "execution_count": null,
   "metadata": {
    "collapsed": true
   },
   "outputs": [],
   "source": []
  }
 ],
 "metadata": {
  "kernelspec": {
   "display_name": "Python 2",
   "language": "python",
   "name": "python2"
  },
  "language_info": {
   "codemirror_mode": {
    "name": "ipython",
    "version": 2
   },
   "file_extension": ".py",
   "mimetype": "text/x-python",
   "name": "python",
   "nbconvert_exporter": "python",
   "pygments_lexer": "ipython2",
   "version": "2.7.12"
  }
 },
 "nbformat": 4,
 "nbformat_minor": 1
}
