{
 "cells": [
  {
   "cell_type": "code",
   "execution_count": 1,
   "metadata": {
    "collapsed": false
   },
   "outputs": [
    {
     "data": {
      "text/plain": [
       "'/Users/skudalippalliyalil/Documents/repo/python/pYNITTE'"
      ]
     },
     "execution_count": 1,
     "metadata": {},
     "output_type": "execute_result"
    }
   ],
   "source": [
    "import os\n",
    "os.getcwd()"
   ]
  },
  {
   "cell_type": "code",
   "execution_count": 2,
   "metadata": {
    "collapsed": false
   },
   "outputs": [
    {
     "name": "stdout",
     "output_type": "stream",
     "text": [
      "      _heartbeat_                                                  a  \\\n",
      "0             NaN  Mozilla/5.0 (Windows NT 6.1; WOW64) AppleWebKi...   \n",
      "1             NaN                             GoogleMaps/RochesterNY   \n",
      "2             NaN  Mozilla/4.0 (compatible; MSIE 8.0; Windows NT ...   \n",
      "3             NaN  Mozilla/5.0 (Macintosh; Intel Mac OS X 10_6_8)...   \n",
      "4             NaN  Mozilla/5.0 (Windows NT 6.1; WOW64) AppleWebKi...   \n",
      "5             NaN  Mozilla/5.0 (Windows NT 6.1; WOW64) AppleWebKi...   \n",
      "6             NaN  Mozilla/5.0 (Windows NT 5.1) AppleWebKit/535.1...   \n",
      "7             NaN  Mozilla/5.0 (Windows NT 6.1; rv:2.0.1) Gecko/2...   \n",
      "8             NaN  Opera/9.80 (X11; Linux zbov; U; en) Presto/2.1...   \n",
      "9             NaN  Mozilla/5.0 (Windows NT 6.1; WOW64) AppleWebKi...   \n",
      "10            NaN  Mozilla/5.0 (Windows NT 6.1; WOW64; rv:10.0.2)...   \n",
      "11            NaN  Mozilla/5.0 (Macintosh; U; Intel Mac OS X 10.4...   \n",
      "12            NaN  Mozilla/5.0 (Windows NT 6.1; WOW64; rv:10.0.2)...   \n",
      "13     1331923261                                                NaN   \n",
      "14            NaN  Mozilla/5.0 (Windows; U; Windows NT 6.1; en-US...   \n",
      "15            NaN  Mozilla/5.0 (Windows NT 6.1) AppleWebKit/535.1...   \n",
      "16            NaN  Mozilla/5.0 (Windows NT 6.1) AppleWebKit/535.1...   \n",
      "17            NaN  Mozilla/5.0 (Macintosh; Intel Mac OS X 10.5; r...   \n",
      "18            NaN                             GoogleMaps/RochesterNY   \n",
      "19            NaN  Mozilla/5.0 (Windows NT 6.1; WOW64) AppleWebKi...   \n",
      "20            NaN  Mozilla/5.0 (compatible; MSIE 9.0; Windows NT ...   \n",
      "21            NaN  Mozilla/5.0 (Macintosh; U; Intel Mac OS X 10.6...   \n",
      "22            NaN  Mozilla/4.0 (compatible; MSIE 8.0; Windows NT ...   \n",
      "23            NaN  Mozilla/5.0 (Macintosh; Intel Mac OS X 10_7_3)...   \n",
      "24            NaN  Mozilla/5.0 (Windows; U; Windows NT 5.1; es-ES...   \n",
      "25            NaN  Mozilla/5.0 (Windows NT 6.1) AppleWebKit/535.1...   \n",
      "26            NaN  Mozilla/5.0 (Windows NT 6.1) AppleWebKit/535.1...   \n",
      "27            NaN  Mozilla/5.0 (Macintosh; Intel Mac OS X 10_6_8)...   \n",
      "28            NaN  Mozilla/5.0 (iPad; CPU OS 5_0_1 like Mac OS X)...   \n",
      "29            NaN  Mozilla/5.0 (iPad; U; CPU OS 3_2 like Mac OS X...   \n",
      "...           ...                                                ...   \n",
      "3530          NaN  Mozilla/5.0 (Windows NT 6.0) AppleWebKit/535.1...   \n",
      "3531          NaN  Mozilla/5.0 (Macintosh; U; Intel Mac OS X 10_6...   \n",
      "3532          NaN  Mozilla/5.0 (Windows NT 6.1; WOW64; rv:10.0.2)...   \n",
      "3533          NaN  Mozilla/5.0 (iPad; CPU OS 5_1 like Mac OS X) A...   \n",
      "3534          NaN  Mozilla/5.0 (Macintosh; Intel Mac OS X 10_6_8)...   \n",
      "3535          NaN  Mozilla/5.0 (Windows NT 5.1; rv:10.0.2) Gecko/...   \n",
      "3536          NaN  Mozilla/5.0 (BlackBerry; U; BlackBerry 9800; e...   \n",
      "3537          NaN  Mozilla/5.0 (Windows NT 6.1; WOW64; rv:10.0.2)...   \n",
      "3538          NaN  Mozilla/5.0 (iPhone; CPU iPhone OS 5_1 like Ma...   \n",
      "3539          NaN    Mozilla/5.0 (compatible; Fedora Core 3) FC3 KDE   \n",
      "3540          NaN  Mozilla/5.0 (Windows NT 6.1; WOW64) AppleWebKi...   \n",
      "3541          NaN  Mozilla/5.0 (X11; U; OpenVMS AlphaServer_ES40;...   \n",
      "3542          NaN  Mozilla/5.0 (compatible; MSIE 9.0; Windows NT ...   \n",
      "3543   1331926831                                                NaN   \n",
      "3544          NaN  Mozilla/5.0 (Windows NT 6.1; WOW64; rv:5.0.1) ...   \n",
      "3545          NaN  Mozilla/5.0 (Windows NT 6.1; WOW64; rv:10.0.2)...   \n",
      "3546          NaN  Mozilla/5.0 (iPhone; CPU iPhone OS 5_1 like Ma...   \n",
      "3547          NaN  Mozilla/5.0 (Macintosh; Intel Mac OS X 10_6_8)...   \n",
      "3548          NaN  Mozilla/5.0 (iPhone; CPU iPhone OS 5_1 like Ma...   \n",
      "3549          NaN  Mozilla/5.0 (Windows NT 6.1; WOW64) AppleWebKi...   \n",
      "3550          NaN  Mozilla/4.0 (compatible; MSIE 8.0; Windows NT ...   \n",
      "3551          NaN  Mozilla/5.0 (Windows NT 6.1; WOW64) AppleWebKi...   \n",
      "3552          NaN  Mozilla/5.0 (Windows; U; Windows NT 6.1; en-US...   \n",
      "3553          NaN  Mozilla/4.0 (compatible; MSIE 7.0; Windows NT ...   \n",
      "3554          NaN  Mozilla/4.0 (compatible; MSIE 7.0; Windows NT ...   \n",
      "3555          NaN  Mozilla/4.0 (compatible; MSIE 9.0; Windows NT ...   \n",
      "3556          NaN  Mozilla/5.0 (Windows NT 5.1) AppleWebKit/535.1...   \n",
      "3557          NaN                             GoogleMaps/RochesterNY   \n",
      "3558          NaN                                     GoogleProducer   \n",
      "3559          NaN  Mozilla/4.0 (compatible; MSIE 8.0; Windows NT ...   \n",
      "\n",
      "                                          al     c                cy       g  \\\n",
      "0                             en-US,en;q=0.8    US           Danvers  A6qOVH   \n",
      "1                                        NaN    US             Provo  mwszkS   \n",
      "2                                      en-US    US        Washington  xxr3Qb   \n",
      "3                                      pt-br    BR              Braz  zCaLwp   \n",
      "4                             en-US,en;q=0.8    US        Shrewsbury  9b6kNl   \n",
      "5                             en-US,en;q=0.8    US        Shrewsbury  axNK8c   \n",
      "6        pl-PL,pl;q=0.8,en-US;q=0.6,en;q=0.4    PL             Luban  wcndER   \n",
      "7                    bg,en-us;q=0.7,en;q=0.3  None               NaN  wcndER   \n",
      "8                                  en-US, en  None               NaN  wcndER   \n",
      "9        pt-BR,pt;q=0.8,en-US;q=0.6,en;q=0.4  None               NaN  zCaLwp   \n",
      "10                            en-us,en;q=0.5    US           Seattle  vNJS4H   \n",
      "11                            en-us,en;q=0.5    US        Washington  wG7OIH   \n",
      "12                            en-us,en;q=0.5    US        Alexandria  vNJS4H   \n",
      "13                                       NaN   NaN               NaN     NaN   \n",
      "14                            en-us,en;q=0.5    US          Marietta  2rOUYc   \n",
      "15       zh-TW,zh;q=0.8,en-US;q=0.6,en;q=0.4    HK  Central District  nQvgJp   \n",
      "16       zh-TW,zh;q=0.8,en-US;q=0.6,en;q=0.4    HK  Central District   XdUNr   \n",
      "17                            en-us,en;q=0.5    US         Buckfield  zH1BFf   \n",
      "18                                       NaN    US             Provo  mwszkS   \n",
      "19       it-IT,it;q=0.8,en-US;q=0.6,en;q=0.4    IT            Venice  wcndER   \n",
      "20                                     es-ES    ES             Alcal  zQ95Hi   \n",
      "21                            en-us,en;q=0.5    US     Davidsonville  wcndER   \n",
      "22                                     en-us    US         Hockessin  y3ZImz   \n",
      "23                                     en-us    US            Lititz  wWiOiD   \n",
      "24       es-es,es;q=0.8,en-us;q=0.5,en;q=0.3    ES            Bilbao  wcndER   \n",
      "25    en-GB,en;q=0.8,en-US;q=0.6,en-AU;q=0.4    MY      Kuala Lumpur  wcndER   \n",
      "26       ro-RO,ro;q=0.8,en-US;q=0.6,en;q=0.4    CY           Nicosia  wcndER   \n",
      "27                            en-US,en;q=0.8    BR            SPaulo  zCaLwp   \n",
      "28                                     en-us  None               NaN  vNJS4H   \n",
      "29                                     en-us  None               NaN  FPX0IM   \n",
      "...                                      ...   ...               ...     ...   \n",
      "3530                          en-US,en;q=0.8    US     San Francisco  xVZg4P   \n",
      "3531                                   en-US  None               NaN  wcndER   \n",
      "3532                          en-us,en;q=0.5    US        Washington  Au3aUS   \n",
      "3533                                   en-us    US      Jacksonville  b2UtUJ   \n",
      "3534                                   en-us    US            Frisco  vNJS4H   \n",
      "3535                                   en-us    US           Houston  zIgLx8   \n",
      "3536                          en-US,en;q=0.5  None               NaN  xIcyim   \n",
      "3537     es-es,es;q=0.8,en-us;q=0.5,en;q=0.3    HN       Tegucigalpa  zCaLwp   \n",
      "3538                                   en-us    US       Los Angeles  qMac9k   \n",
      "3539                                     NaN    US          Bellevue  zu2M5o   \n",
      "3540                          en-US,en;q=0.8    US            Payson  wcndER   \n",
      "3541                                     NaN    US          Bellevue  zu2M5o   \n",
      "3542                                   en-us    US         Pittsburg  y3reI1   \n",
      "3543                                     NaN   NaN               NaN     NaN   \n",
      "3544                          en-us,en;q=0.5    US        Wentzville  vNJS4H   \n",
      "3545                          en-us,en;q=0.5    US     Saint Charles  vNJS4H   \n",
      "3546                                   en-us    US       Los Angeles  qMac9k   \n",
      "3547                                   en-us    US     Silver Spring  y0jYkg   \n",
      "3548                                   en-us    US           Mcgehee  y5rMac   \n",
      "3549     sv-SE,sv;q=0.8,en-US;q=0.6,en;q=0.4    SE          Sollefte   eH8wu   \n",
      "3550                                   en-us    US      Conshohocken  A00b72   \n",
      "3551                          en-US,en;q=0.8  None               NaN  wcndER   \n",
      "3552                                     NaN    US           Decatur  rqgJuE   \n",
      "3553                                   en-us    US        Shrewsbury  9b6kNl   \n",
      "3554                                   en-us    US        Shrewsbury  axNK8c   \n",
      "3555                                      en    US           Paramus  e5SvKE   \n",
      "3556                          en-US,en;q=0.8    US     Oklahoma City  jQLtP4   \n",
      "3557                                     NaN    US             Provo  mwszkS   \n",
      "3558                                     NaN    US     Mountain View  zjtI4X   \n",
      "3559                                   en-US    US           Mc Lean  qxKrTK   \n",
      "\n",
      "       gr       h          hc           hh   kw              l  \\\n",
      "0      MA  wfLQtf  1331822918    1.usa.gov  NaN        orofrog   \n",
      "1      UT  mwszkS  1308262393         j.mp  NaN          bitly   \n",
      "2      DC  xxr3Qb  1331919941    1.usa.gov  NaN          bitly   \n",
      "3      27  zUtuOu  1331923068    1.usa.gov  NaN       alelex88   \n",
      "4      MA  9b6kNl  1273672411       bit.ly  NaN          bitly   \n",
      "5      MA  axNK8c  1273672506       bit.ly  NaN          bitly   \n",
      "6      77  zkpJBR  1331922854    1.usa.gov  NaN       bnjacobs   \n",
      "7     NaN  zkpJBR  1331922854    1.usa.gov  NaN       bnjacobs   \n",
      "8     NaN  zkpJBR  1331922854    1.usa.gov  NaN       bnjacobs   \n",
      "9     NaN  zUtuOu  1331923068    1.usa.gov  NaN       alelex88   \n",
      "10     WA  u0uD9q  1319563556    1.usa.gov  NaN   o_4us71ccioa   \n",
      "11     DC  A0nRz4  1331815838    1.usa.gov  NaN    darrellissa   \n",
      "12     VA  u0uD9q  1319563556    1.usa.gov  NaN   o_4us71ccioa   \n",
      "13    NaN     NaN         NaN          NaN  NaN            NaN   \n",
      "14     GA  2rOUYc  1255769846    1.usa.gov  NaN          bitly   \n",
      "15     00  rtrrth  1317318030         j.mp  NaN     walkeryuen   \n",
      "16     00  qWkgbq  1317318039         j.mp  NaN     walkeryuen   \n",
      "17     ME  x3jOIv  1331839576    1.usa.gov  NaN  andyzieminski   \n",
      "18     UT  mwszkS  1308262393    1.usa.gov  NaN          bitly   \n",
      "19     20  zkpJBR  1331922854    1.usa.gov  NaN       bnjacobs   \n",
      "20     51  ytZYWR  1331670549    bitly.com  NaN        jplnews   \n",
      "21     MD  zkpJBR  1331922854    1.usa.gov  NaN       bnjacobs   \n",
      "22     DE  y3ZImz  1331064158    1.usa.gov  NaN          bitly   \n",
      "23     PA  wWiOiD  1330217829    1.usa.gov  NaN          bitly   \n",
      "24     59  zkpJBR  1331922854    1.usa.gov  NaN       bnjacobs   \n",
      "25     14  zkpJBR  1331922854    1.usa.gov  NaN       bnjacobs   \n",
      "26     04  zkpJBR  1331922854    1.usa.gov  NaN       bnjacobs   \n",
      "27     27  zUtuOu  1331923068    1.usa.gov  NaN       alelex88   \n",
      "28    NaN  u0uD9q  1319563556    1.usa.gov  NaN   o_4us71ccioa   \n",
      "29    NaN  FPX0IL  1331922978    1.usa.gov  NaN   twittershare   \n",
      "...   ...     ...         ...          ...  ...            ...   \n",
      "3530   CA  wqUkTo  1331908247  go.nasa.gov  NaN    nasatwitter   \n",
      "3531  NaN  zkpJBR  1331922854    1.usa.gov  NaN       bnjacobs   \n",
      "3532   DC  A9ct6C  1331926420    1.usa.gov  NaN          ncsha   \n",
      "3533   FL  ieCdgH  1301393171  go.nasa.gov  NaN    nasatwitter   \n",
      "3534   TX  u0uD9q  1319563556    1.usa.gov  NaN   o_4us71ccioa   \n",
      "3535   TX  yrPaLt  1331903484      aash.to  NaN         aashto   \n",
      "3536  NaN  yG1TTf  1331728309  go.nasa.gov  NaN    nasatwitter   \n",
      "3537   08  w63FZW  1331546756    1.usa.gov  NaN      bufferapp   \n",
      "3538   CA  qds1Ge  1310473559    1.usa.gov  NaN  healthypeople   \n",
      "3539   WA  zDhdro  1331586192       bit.ly  NaN       glimtwin   \n",
      "3540   UT  zkpJBR  1331922854    1.usa.gov  NaN       bnjacobs   \n",
      "3541   WA  zDhdro  1331586192    1.usa.gov  NaN       glimtwin   \n",
      "3542   CA  y3reI1  1331926120    1.usa.gov  NaN          bitly   \n",
      "3543  NaN     NaN         NaN          NaN  NaN            NaN   \n",
      "3544   MO  u0uD9q  1319563556    1.usa.gov  NaN   o_4us71ccioa   \n",
      "3545   IL  u0uD9q  1319563556    1.usa.gov  NaN   o_4us71ccioa   \n",
      "3546   CA  qds1Ge  1310473559    1.usa.gov  NaN  healthypeople   \n",
      "3547   MD  y0jYkg  1331851811    1.usa.gov  NaN          bitly   \n",
      "3548   AR  xANY6O  1331916302    1.usa.gov  NaN    twitterfeed   \n",
      "3549   24  7dtjei  1260316355    1.usa.gov  NaN   tweetdeckapi   \n",
      "3550   PA  yGSwzn  1331917632    1.usa.gov  NaN        addthis   \n",
      "3551  NaN  zkpJBR  1331922854    1.usa.gov  NaN       bnjacobs   \n",
      "3552   AL  xcz8vt  1331227417    1.usa.gov  NaN      bootsnall   \n",
      "3553   MA  9b6kNl  1273672411       bit.ly  NaN          bitly   \n",
      "3554   MA  axNK8c  1273672506       bit.ly  NaN          bitly   \n",
      "3555   NJ  fqPSr9  1301298479    1.usa.gov  NaN   tweetdeckapi   \n",
      "3556   OK  jQLtP4  1307530247    1.usa.gov  NaN          bitly   \n",
      "3557   UT  mwszkS  1308262393         j.mp  NaN          bitly   \n",
      "3558   CA  zjtI4X  1327528527    1.usa.gov  NaN          bitly   \n",
      "3559   VA  qxKrTK  1312897670    1.usa.gov  NaN          bitly   \n",
      "\n",
      "                            ll  nk  \\\n",
      "0      [42.576698, -70.954903]   1   \n",
      "1     [40.218102, -111.613297]   0   \n",
      "2        [38.9007, -77.043098]   1   \n",
      "3     [-23.549999, -46.616699]   0   \n",
      "4      [42.286499, -71.714699]   0   \n",
      "5      [42.286499, -71.714699]   0   \n",
      "6         [51.116699, 15.2833]   0   \n",
      "7                          NaN   0   \n",
      "8                          NaN   0   \n",
      "9                          NaN   0   \n",
      "10      [47.5951, -122.332603]   1   \n",
      "11     [38.937599, -77.092796]   0   \n",
      "12     [38.790901, -77.094704]   1   \n",
      "13                         NaN NaN   \n",
      "14       [33.953201, -84.5177]   1   \n",
      "15       [22.2833, 114.150002]   1   \n",
      "16       [22.2833, 114.150002]   1   \n",
      "17     [44.299702, -70.369797]   0   \n",
      "18    [40.218102, -111.613297]   0   \n",
      "19        [45.438599, 12.3267]   0   \n",
      "20        [37.516701, -5.9833]   0   \n",
      "21     [38.939201, -76.635002]   0   \n",
      "22        [39.785, -75.682297]   0   \n",
      "23       [40.174999, -76.3078]   0   \n",
      "24            [43.25, -2.9667]   0   \n",
      "25        [3.1667, 101.699997]   0   \n",
      "26      [35.166698, 33.366699]   0   \n",
      "27      [-23.5333, -46.616699]   0   \n",
      "28                         NaN   0   \n",
      "29                         NaN   1   \n",
      "...                        ...  ..   \n",
      "3530    [37.7645, -122.429398]   0   \n",
      "3531                       NaN   0   \n",
      "3532   [38.904202, -77.031998]   1   \n",
      "3533   [30.279301, -81.585098]   1   \n",
      "3534   [33.149899, -96.855499]   1   \n",
      "3535   [29.775499, -95.415199]   1   \n",
      "3536                       NaN   0   \n",
      "3537        [14.1, -87.216698]   0   \n",
      "3538  [34.041599, -118.298798]   0   \n",
      "3539  [47.615398, -122.210297]   0   \n",
      "3540  [40.014198, -111.738899]   0   \n",
      "3541  [47.615398, -122.210297]   0   \n",
      "3542    [38.0051, -121.838699]   0   \n",
      "3543                       NaN NaN   \n",
      "3544   [38.790001, -90.854897]   1   \n",
      "3545     [41.9352, -88.290901]   1   \n",
      "3546  [34.041599, -118.298798]   1   \n",
      "3547   [39.052101, -77.014999]   1   \n",
      "3548   [33.628399, -91.356903]   1   \n",
      "3549    [63.166698, 17.266701]   1   \n",
      "3550       [40.0798, -75.2855]   0   \n",
      "3551                       NaN   0   \n",
      "3552   [34.572701, -86.940598]   0   \n",
      "3553   [42.286499, -71.714699]   0   \n",
      "3554   [42.286499, -71.714699]   0   \n",
      "3555         [40.9445, -74.07]   1   \n",
      "3556     [35.4715, -97.518997]   0   \n",
      "3557  [40.218102, -111.613297]   0   \n",
      "3558  [37.419201, -122.057404]   0   \n",
      "3559   [38.935799, -77.162102]   0   \n",
      "\n",
      "                                                      r           t  \\\n",
      "0     http://www.facebook.com/l/7AQEFzjSi/1.usa.gov/...  1331923247   \n",
      "1                              http://www.AwareMap.com/  1331923249   \n",
      "2                                  http://t.co/03elZC4Q  1331923250   \n",
      "3                                                direct  1331923249   \n",
      "4                   http://www.shrewsbury-ma.gov/selco/  1331923251   \n",
      "5                   http://www.shrewsbury-ma.gov/selco/  1331923252   \n",
      "6     http://plus.url.google.com/url?sa=z&n=13319232...  1331923255   \n",
      "7                              http://www.facebook.com/  1331923255   \n",
      "8     http://www.facebook.com/l.php?u=http%3A%2F%2F1...  1331923254   \n",
      "9                                  http://t.co/o1Pd0WeV  1331923255   \n",
      "10                                               direct  1331923258   \n",
      "11                                 http://t.co/ND7SoPyo  1331923259   \n",
      "12                                               direct  1331923259   \n",
      "13                                                  NaN         NaN   \n",
      "14                                               direct  1331923262   \n",
      "15    http://forum2.hkgolden.com/view.aspx?type=BW&m...  1331923263   \n",
      "16    http://forum2.hkgolden.com/view.aspx?type=BW&m...  1331923263   \n",
      "17                                 http://t.co/6Cx4ROLs  1331923264   \n",
      "18                             http://www.AwareMap.com/  1331923262   \n",
      "19                             http://www.facebook.com/  1331923264   \n",
      "20                             http://www.facebook.com/  1331923265   \n",
      "21                             http://www.facebook.com/  1331923267   \n",
      "22                                               direct  1331923267   \n",
      "23    http://www.facebook.com/l.php?u=http%3A%2F%2F1...  1331923267   \n",
      "24                             http://www.facebook.com/  1331923268   \n",
      "25                             http://www.facebook.com/  1331923269   \n",
      "26                 http://www.facebook.com/?ref=tn_tnmn  1331923268   \n",
      "27                                               direct  1331923269   \n",
      "28                                               direct  1331923270   \n",
      "29                                 http://t.co/5xlp0B34  1331923270   \n",
      "...                                                 ...         ...   \n",
      "3530  http://www.facebook.com/l.php?u=http%3A%2F%2Fg...  1331926815   \n",
      "3531                                             direct  1331926816   \n",
      "3532                              http://www.ncsha.org/  1331926817   \n",
      "3533                                             direct  1331926818   \n",
      "3534                                             direct  1331926820   \n",
      "3535                                             direct  1331926823   \n",
      "3536                               http://t.co/g1VKE8zS  1331926824   \n",
      "3537                               http://t.co/A8TJyibE  1331926825   \n",
      "3538                                             direct  1331926825   \n",
      "3539                                             direct  1331926827   \n",
      "3540  http://www.facebook.com/l.php?u=http%3A%2F%2F1...  1331926828   \n",
      "3541                                             direct  1331926828   \n",
      "3542  http://www.facebook.com/l.php?u=http%3A%2F%2F1...  1331926829   \n",
      "3543                                                NaN         NaN   \n",
      "3544                                             direct  1331926831   \n",
      "3545                                             direct  1331926832   \n",
      "3546                                             direct  1331926833   \n",
      "3547                                             direct  1331926836   \n",
      "3548  https://twitter.com/fdarecalls/status/18069759...  1331926836   \n",
      "3549                                             direct  1331926834   \n",
      "3550   http://www.linkedin.com/home?trk=hb_tab_home_top  1331926837   \n",
      "3551  http://plus.url.google.com/url?sa=z&n=13319268...  1331926837   \n",
      "3552                                             direct  1331926839   \n",
      "3553                http://www.shrewsbury-ma.gov/selco/  1331926840   \n",
      "3554                http://www.shrewsbury-ma.gov/selco/  1331926840   \n",
      "3555                                             direct  1331926841   \n",
      "3556  http://www.facebook.com/l.php?u=http%3A%2F%2F1...  1331926844   \n",
      "3557                           http://www.AwareMap.com/  1331926846   \n",
      "3558                                             direct  1331926847   \n",
      "3559                               http://t.co/OEEEvwjU  1331926849   \n",
      "\n",
      "                       tz                                                  u  \n",
      "0        America/New_York        http://www.ncbi.nlm.nih.gov/pubmed/22415991  \n",
      "1          America/Denver        http://www.monroecounty.gov/etc/911/rss.php  \n",
      "2        America/New_York  http://boxer.senate.gov/en/press/releases/0316...  \n",
      "3       America/Sao_Paulo            http://apod.nasa.gov/apod/ap120312.html  \n",
      "4        America/New_York  http://www.shrewsbury-ma.gov/egov/gallery/1341...  \n",
      "5        America/New_York  http://www.shrewsbury-ma.gov/egov/gallery/1341...  \n",
      "6           Europe/Warsaw  http://www.nasa.gov/mission_pages/nustar/main/...  \n",
      "7                          http://www.nasa.gov/mission_pages/nustar/main/...  \n",
      "8                          http://www.nasa.gov/mission_pages/nustar/main/...  \n",
      "9                                    http://apod.nasa.gov/apod/ap120312.html  \n",
      "10    America/Los_Angeles  https://www.nysdot.gov/rexdesign/design/commun...  \n",
      "11       America/New_York  http://oversight.house.gov/wp-content/uploads/...  \n",
      "12       America/New_York  https://www.nysdot.gov/rexdesign/design/commun...  \n",
      "13                    NaN                                                NaN  \n",
      "14       America/New_York               http://toxtown.nlm.nih.gov/index.php  \n",
      "15         Asia/Hong_Kong  http://www.ssd.noaa.gov/PS/TROP/TCFP/data/curr...  \n",
      "16         Asia/Hong_Kong  http://www.usno.navy.mil/NOOC/nmfc-ph/RSS/jtwc...  \n",
      "17       America/New_York  http://www.usda.gov/wps/portal/usda/usdahome?c...  \n",
      "18         America/Denver        http://www.monroecounty.gov/etc/911/rss.php  \n",
      "19            Europe/Rome  http://www.nasa.gov/mission_pages/nustar/main/...  \n",
      "20           Africa/Ceuta  http://voyager.jpl.nasa.gov/imagesvideo/uranus...  \n",
      "21       America/New_York  http://www.nasa.gov/mission_pages/nustar/main/...  \n",
      "22       America/New_York  http://portal.hud.gov/hudportal/documents/hudd...  \n",
      "23       America/New_York  http://www.tricare.mil/mybenefit/ProfileFilter...  \n",
      "24          Europe/Madrid  http://www.nasa.gov/mission_pages/nustar/main/...  \n",
      "25      Asia/Kuala_Lumpur  http://www.nasa.gov/mission_pages/nustar/main/...  \n",
      "26           Asia/Nicosia  http://www.nasa.gov/mission_pages/nustar/main/...  \n",
      "27      America/Sao_Paulo            http://apod.nasa.gov/apod/ap120312.html  \n",
      "28                         https://www.nysdot.gov/rexdesign/design/commun...  \n",
      "29                         http://www.ed.gov/news/media-advisories/us-dep...  \n",
      "...                   ...                                                ...  \n",
      "3530  America/Los_Angeles  http://www.nasa.gov/multimedia/imagegallery/im...  \n",
      "3531                       http://www.nasa.gov/mission_pages/nustar/main/...  \n",
      "3532     America/New_York  http://portal.hud.gov/hudportal/HUD?src=/press...  \n",
      "3533     America/New_York                         http://apod.nasa.gov/apod/  \n",
      "3534      America/Chicago  https://www.nysdot.gov/rexdesign/design/commun...  \n",
      "3535      America/Chicago  http://ntl.bts.gov/lib/44000/44300/44374/FHWA-...  \n",
      "3536                       http://www.nasa.gov/mission_pages/hurricanes/a...  \n",
      "3537  America/Tegucigalpa            http://apod.nasa.gov/apod/ap120312.html  \n",
      "3538  America/Los_Angeles  http://healthypeople.gov/2020/connect/webinars...  \n",
      "3539  America/Los_Angeles  http://www.federalreserve.gov/newsevents/press...  \n",
      "3540       America/Denver  http://www.nasa.gov/mission_pages/nustar/main/...  \n",
      "3541  America/Los_Angeles  http://www.federalreserve.gov/newsevents/press...  \n",
      "3542  America/Los_Angeles  http://www.sba.gov/community/blogs/community-b...  \n",
      "3543                  NaN                                                NaN  \n",
      "3544      America/Chicago  https://www.nysdot.gov/rexdesign/design/commun...  \n",
      "3545      America/Chicago  https://www.nysdot.gov/rexdesign/design/commun...  \n",
      "3546  America/Los_Angeles  http://healthypeople.gov/2020/connect/webinars...  \n",
      "3547     America/New_York  http://www.epa.gov/otaq/regs/fuels/additive/e1...  \n",
      "3548      America/Chicago    http://www.fda.gov/Safety/Recalls/ucm296326.htm  \n",
      "3549     Europe/Stockholm  http://www.nasa.gov/mission_pages/WISE/main/in...  \n",
      "3550     America/New_York  http://www.nlm.nih.gov/medlineplus/news/fullst...  \n",
      "3551                       http://www.nasa.gov/mission_pages/nustar/main/...  \n",
      "3552      America/Chicago  http://travel.state.gov/passport/passport_5535...  \n",
      "3553     America/New_York  http://www.shrewsbury-ma.gov/egov/gallery/1341...  \n",
      "3554     America/New_York  http://www.shrewsbury-ma.gov/egov/gallery/1341...  \n",
      "3555     America/New_York  http://www.fda.gov/AdvisoryCommittees/Committe...  \n",
      "3556      America/Chicago  http://www.okc.gov/PublicNotificationSystem/Fo...  \n",
      "3557       America/Denver        http://www.monroecounty.gov/etc/911/rss.php  \n",
      "3558  America/Los_Angeles                http://www.ahrq.gov/qual/qitoolkit/  \n",
      "3559     America/New_York  http://herndon-va.gov/Content/public_safety/Pu...  \n",
      "\n",
      "[3560 rows x 18 columns]\n"
     ]
    }
   ],
   "source": [
    "from pandas import DataFrame, Series\n",
    "import pandas as pd\n",
    "import json\n",
    "\n",
    "path = 'usagov_bitly_data2012-03-16-1331923249.txt'\n",
    "records = [json.loads(line) for line in open(path)]\n",
    "frame = DataFrame(records)\n",
    "print frame"
   ]
  },
  {
   "cell_type": "code",
   "execution_count": 4,
   "metadata": {
    "collapsed": true
   },
   "outputs": [],
   "source": [
    "tz_counts = frame['tz'].value_counts()"
   ]
  },
  {
   "cell_type": "code",
   "execution_count": 5,
   "metadata": {
    "collapsed": false
   },
   "outputs": [
    {
     "data": {
      "text/plain": [
       "America/New_York       1251\n",
       "                        521\n",
       "America/Chicago         400\n",
       "America/Los_Angeles     382\n",
       "America/Denver          191\n",
       "Europe/London            74\n",
       "Asia/Tokyo               37\n",
       "Pacific/Honolulu         36\n",
       "Europe/Madrid            35\n",
       "America/Sao_Paulo        33\n",
       "Name: tz, dtype: int64"
      ]
     },
     "execution_count": 5,
     "metadata": {},
     "output_type": "execute_result"
    }
   ],
   "source": [
    " tz_counts[:10]"
   ]
  },
  {
   "cell_type": "code",
   "execution_count": 6,
   "metadata": {
    "collapsed": true
   },
   "outputs": [],
   "source": [
    " clean_tz = frame['tz'].fillna('Missing')"
   ]
  },
  {
   "cell_type": "code",
   "execution_count": 7,
   "metadata": {
    "collapsed": true
   },
   "outputs": [],
   "source": [
    " clean_tz[clean_tz == ''] = 'Unknown'"
   ]
  },
  {
   "cell_type": "code",
   "execution_count": 8,
   "metadata": {
    "collapsed": true
   },
   "outputs": [],
   "source": [
    " tz_counts = clean_tz.value_counts()"
   ]
  },
  {
   "cell_type": "code",
   "execution_count": 9,
   "metadata": {
    "collapsed": false
   },
   "outputs": [
    {
     "data": {
      "text/plain": [
       "America/New_York       1251\n",
       "Unknown                 521\n",
       "America/Chicago         400\n",
       "America/Los_Angeles     382\n",
       "America/Denver          191\n",
       "Missing                 120\n",
       "Europe/London            74\n",
       "Asia/Tokyo               37\n",
       "Pacific/Honolulu         36\n",
       "Europe/Madrid            35\n",
       "Name: tz, dtype: int64"
      ]
     },
     "execution_count": 9,
     "metadata": {},
     "output_type": "execute_result"
    }
   ],
   "source": [
    " tz_counts[:10]"
   ]
  },
  {
   "cell_type": "code",
   "execution_count": 10,
   "metadata": {
    "collapsed": false
   },
   "outputs": [
    {
     "data": {
      "text/plain": [
       "0          America/New_York\n",
       "1            America/Denver\n",
       "2          America/New_York\n",
       "3         America/Sao_Paulo\n",
       "4          America/New_York\n",
       "5          America/New_York\n",
       "6             Europe/Warsaw\n",
       "7                   Unknown\n",
       "8                   Unknown\n",
       "9                   Unknown\n",
       "10      America/Los_Angeles\n",
       "11         America/New_York\n",
       "12         America/New_York\n",
       "13                  Missing\n",
       "14         America/New_York\n",
       "15           Asia/Hong_Kong\n",
       "16           Asia/Hong_Kong\n",
       "17         America/New_York\n",
       "18           America/Denver\n",
       "19              Europe/Rome\n",
       "20             Africa/Ceuta\n",
       "21         America/New_York\n",
       "22         America/New_York\n",
       "23         America/New_York\n",
       "24            Europe/Madrid\n",
       "25        Asia/Kuala_Lumpur\n",
       "26             Asia/Nicosia\n",
       "27        America/Sao_Paulo\n",
       "28                  Unknown\n",
       "29                  Unknown\n",
       "               ...         \n",
       "3530    America/Los_Angeles\n",
       "3531                Unknown\n",
       "3532       America/New_York\n",
       "3533       America/New_York\n",
       "3534        America/Chicago\n",
       "3535        America/Chicago\n",
       "3536                Unknown\n",
       "3537    America/Tegucigalpa\n",
       "3538    America/Los_Angeles\n",
       "3539    America/Los_Angeles\n",
       "3540         America/Denver\n",
       "3541    America/Los_Angeles\n",
       "3542    America/Los_Angeles\n",
       "3543                Missing\n",
       "3544        America/Chicago\n",
       "3545        America/Chicago\n",
       "3546    America/Los_Angeles\n",
       "3547       America/New_York\n",
       "3548        America/Chicago\n",
       "3549       Europe/Stockholm\n",
       "3550       America/New_York\n",
       "3551                Unknown\n",
       "3552        America/Chicago\n",
       "3553       America/New_York\n",
       "3554       America/New_York\n",
       "3555       America/New_York\n",
       "3556        America/Chicago\n",
       "3557         America/Denver\n",
       "3558    America/Los_Angeles\n",
       "3559       America/New_York\n",
       "Name: tz, dtype: object"
      ]
     },
     "execution_count": 10,
     "metadata": {},
     "output_type": "execute_result"
    }
   ],
   "source": [
    " clean_tz"
   ]
  },
  {
   "cell_type": "code",
   "execution_count": 11,
   "metadata": {
    "collapsed": false
   },
   "outputs": [
    {
     "data": {
      "text/plain": [
       "<matplotlib.axes._subplots.AxesSubplot at 0x114f3a610>"
      ]
     },
     "execution_count": 11,
     "metadata": {},
     "output_type": "execute_result"
    }
   ],
   "source": [
    " tz_counts[:10].plot(kind='barh', rot=0)"
   ]
  },
  {
   "cell_type": "code",
   "execution_count": 12,
   "metadata": {
    "collapsed": false
   },
   "outputs": [
    {
     "ename": "NameError",
     "evalue": "name 'show' is not defined",
     "output_type": "error",
     "traceback": [
      "\u001b[0;31m---------------------------------------------------------------------------\u001b[0m",
      "\u001b[0;31mNameError\u001b[0m                                 Traceback (most recent call last)",
      "\u001b[0;32m<ipython-input-12-ca94444d24bc>\u001b[0m in \u001b[0;36m<module>\u001b[0;34m()\u001b[0m\n\u001b[0;32m----> 1\u001b[0;31m \u001b[0mshow\u001b[0m\u001b[0;34m(\u001b[0m\u001b[0;34m)\u001b[0m\u001b[0;34m\u001b[0m\u001b[0m\n\u001b[0m",
      "\u001b[0;31mNameError\u001b[0m: name 'show' is not defined"
     ]
    }
   ],
   "source": [
    "show()"
   ]
  },
  {
   "cell_type": "code",
   "execution_count": 13,
   "metadata": {
    "collapsed": true
   },
   "outputs": [],
   "source": [
    "%matplotlib inline"
   ]
  },
  {
   "cell_type": "code",
   "execution_count": 14,
   "metadata": {
    "collapsed": false
   },
   "outputs": [
    {
     "data": {
      "text/plain": [
       "<matplotlib.axes._subplots.AxesSubplot at 0x11807ad10>"
      ]
     },
     "execution_count": 14,
     "metadata": {},
     "output_type": "execute_result"
    },
    {
     "data": {
      "image/png": "[encoded data removed]",
      "text/plain": [
       "<matplotlib.figure.Figure at 0x11807a390>"
      ]
     },
     "metadata": {},
     "output_type": "display_data"
    }
   ],
   "source": [
    "tz_counts[:10].plot(kind='barh', rot=0)"
   ]
  },
  {
   "cell_type": "code",
   "execution_count": 21,
   "metadata": {
    "collapsed": false
   },
   "outputs": [
    {
     "ename": "AttributeError",
     "evalue": "'AxesSubplot' object has no attribute 'show'",
     "output_type": "error",
     "traceback": [
      "\u001b[0;31m---------------------------------------------------------------------------\u001b[0m",
      "\u001b[0;31mAttributeError\u001b[0m                            Traceback (most recent call last)",
      "\u001b[0;32m<ipython-input-21-d37ac629a3ff>\u001b[0m in \u001b[0;36m<module>\u001b[0;34m()\u001b[0m\n\u001b[0;32m----> 1\u001b[0;31m \u001b[0mtz_counts\u001b[0m\u001b[0;34m[\u001b[0m\u001b[0;34m:\u001b[0m\u001b[0;36m10\u001b[0m\u001b[0;34m]\u001b[0m\u001b[0;34m.\u001b[0m\u001b[0mplot\u001b[0m\u001b[0;34m(\u001b[0m\u001b[0mkind\u001b[0m\u001b[0;34m=\u001b[0m\u001b[0;34m'barh'\u001b[0m\u001b[0;34m,\u001b[0m \u001b[0mrot\u001b[0m\u001b[0;34m=\u001b[0m\u001b[0;36m1\u001b[0m\u001b[0;34m)\u001b[0m\u001b[0;34m.\u001b[0m\u001b[0mshow\u001b[0m\u001b[0;34m(\u001b[0m\u001b[0;34m)\u001b[0m\u001b[0;34m\u001b[0m\u001b[0m\n\u001b[0m",
      "\u001b[0;31mAttributeError\u001b[0m: 'AxesSubplot' object has no attribute 'show'"
     ]
    },
    {
     "data": {
      "image/png": "[encoded data removed]",
      "text/plain": [
       "<matplotlib.figure.Figure at 0x11883c4d0>"
      ]
     },
     "metadata": {},
     "output_type": "display_data"
    }
   ],
   "source": [
    "tz_counts[:10].plot(kind='barh', rot=1).show()"
   ]
  },
  {
   "cell_type": "code",
   "execution_count": 16,
   "metadata": {
    "collapsed": true
   },
   "outputs": [],
   "source": [
    " cframe = frame[frame.a.notnull()]"
   ]
  },
  {
   "cell_type": "code",
   "execution_count": 17,
   "metadata": {
    "collapsed": false
   },
   "outputs": [
    {
     "ename": "NameError",
     "evalue": "name 'np' is not defined",
     "output_type": "error",
     "traceback": [
      "\u001b[0;31m---------------------------------------------------------------------------\u001b[0m",
      "\u001b[0;31mNameError\u001b[0m                                 Traceback (most recent call last)",
      "\u001b[0;32m<ipython-input-17-8e3d1ded83c1>\u001b[0m in \u001b[0;36m<module>\u001b[0;34m()\u001b[0m\n\u001b[0;32m----> 1\u001b[0;31m \u001b[0moperating_system\u001b[0m \u001b[0;34m=\u001b[0m \u001b[0mnp\u001b[0m\u001b[0;34m.\u001b[0m\u001b[0mwhere\u001b[0m\u001b[0;34m(\u001b[0m\u001b[0mcframe\u001b[0m\u001b[0;34m[\u001b[0m\u001b[0;34m'a'\u001b[0m\u001b[0;34m]\u001b[0m\u001b[0;34m.\u001b[0m\u001b[0mstr\u001b[0m\u001b[0;34m.\u001b[0m\u001b[0mcontains\u001b[0m\u001b[0;34m(\u001b[0m\u001b[0;34m'Windows'\u001b[0m\u001b[0;34m)\u001b[0m\u001b[0;34m,\u001b[0m\u001b[0;34m'Windows'\u001b[0m\u001b[0;34m,\u001b[0m \u001b[0;34m'Not Windows'\u001b[0m\u001b[0;34m)\u001b[0m\u001b[0;34m\u001b[0m\u001b[0m\n\u001b[0m",
      "\u001b[0;31mNameError\u001b[0m: name 'np' is not defined"
     ]
    }
   ],
   "source": [
    " operating_system = np.where(cframe['a'].str.contains('Windows'),'Windows', 'Not Windows')"
   ]
  },
  {
   "cell_type": "code",
   "execution_count": 18,
   "metadata": {
    "collapsed": true
   },
   "outputs": [],
   "source": [
    "import numpy as np"
   ]
  },
  {
   "cell_type": "code",
   "execution_count": 19,
   "metadata": {
    "collapsed": true
   },
   "outputs": [],
   "source": [
    " operating_system = np.where(cframe['a'].str.contains('Windows'),'Windows', 'Not Windows')"
   ]
  },
  {
   "cell_type": "code",
   "execution_count": 20,
   "metadata": {
    "collapsed": false
   },
   "outputs": [
    {
     "data": {
      "text/plain": [
       "array(['Windows', 'Not Windows', 'Windows', 'Not Windows', 'Windows'], \n",
       "      dtype='|S11')"
      ]
     },
     "execution_count": 20,
     "metadata": {},
     "output_type": "execute_result"
    }
   ],
   "source": [
    " operating_system[:5]"
   ]
  },
  {
   "cell_type": "code",
   "execution_count": null,
   "metadata": {
    "collapsed": true
   },
   "outputs": [],
   "source": []
  }
 ],
 "metadata": {
  "kernelspec": {
   "display_name": "Python 2",
   "language": "python",
   "name": "python2"
  },
  "language_info": {
   "codemirror_mode": {
    "name": "ipython",
    "version": 2
   },
   "file_extension": ".py",
   "mimetype": "text/x-python",
   "name": "python",
   "nbconvert_exporter": "python",
   "pygments_lexer": "ipython2",
   "version": "2.7.12"
  }
 },
 "nbformat": 4,
 "nbformat_minor": 1
}
